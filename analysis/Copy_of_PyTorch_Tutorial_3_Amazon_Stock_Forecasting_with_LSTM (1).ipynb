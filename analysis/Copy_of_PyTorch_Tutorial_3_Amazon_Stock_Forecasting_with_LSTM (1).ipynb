{
  "cells": [
    {
      "cell_type": "code",
      "execution_count": 43,
      "id": "2a4fdd0f",
      "metadata": {
        "colab": {
          "base_uri": "https://localhost:8080/",
          "height": 356
        },
        "id": "2a4fdd0f",
        "outputId": "18a54256-df0f-4d64-ec55-3f9b47701b2f"
      },
      "outputs": [
        {
          "name": "stderr",
          "output_type": "stream",
          "text": [
            "[*********************100%%**********************]  1 of 1 completed\n"
          ]
        },
        {
          "data": {
            "text/html": [
              "<div>\n",
              "<style scoped>\n",
              "    .dataframe tbody tr th:only-of-type {\n",
              "        vertical-align: middle;\n",
              "    }\n",
              "\n",
              "    .dataframe tbody tr th {\n",
              "        vertical-align: top;\n",
              "    }\n",
              "\n",
              "    .dataframe thead th {\n",
              "        text-align: right;\n",
              "    }\n",
              "</style>\n",
              "<table border=\"1\" class=\"dataframe\">\n",
              "  <thead>\n",
              "    <tr style=\"text-align: right;\">\n",
              "      <th></th>\n",
              "      <th>Date</th>\n",
              "      <th>Open</th>\n",
              "      <th>High</th>\n",
              "      <th>Low</th>\n",
              "      <th>Close</th>\n",
              "      <th>Adj Close</th>\n",
              "      <th>Volume</th>\n",
              "    </tr>\n",
              "  </thead>\n",
              "  <tbody>\n",
              "    <tr>\n",
              "      <th>0</th>\n",
              "      <td>2010-01-04</td>\n",
              "      <td>33.599998</td>\n",
              "      <td>34.099998</td>\n",
              "      <td>33.400002</td>\n",
              "      <td>34.000000</td>\n",
              "      <td>26.409618</td>\n",
              "      <td>40679350</td>\n",
              "    </tr>\n",
              "    <tr>\n",
              "      <th>1</th>\n",
              "      <td>2010-01-05</td>\n",
              "      <td>34.200001</td>\n",
              "      <td>35.500000</td>\n",
              "      <td>34.099998</td>\n",
              "      <td>35.299999</td>\n",
              "      <td>27.419401</td>\n",
              "      <td>66861710</td>\n",
              "    </tr>\n",
              "    <tr>\n",
              "      <th>2</th>\n",
              "      <td>2010-01-06</td>\n",
              "      <td>35.599998</td>\n",
              "      <td>36.799999</td>\n",
              "      <td>35.099998</td>\n",
              "      <td>36.400002</td>\n",
              "      <td>28.273832</td>\n",
              "      <td>67433890</td>\n",
              "    </tr>\n",
              "    <tr>\n",
              "      <th>3</th>\n",
              "      <td>2010-01-07</td>\n",
              "      <td>36.900002</td>\n",
              "      <td>37.000000</td>\n",
              "      <td>36.099998</td>\n",
              "      <td>36.500000</td>\n",
              "      <td>28.351507</td>\n",
              "      <td>67245190</td>\n",
              "    </tr>\n",
              "    <tr>\n",
              "      <th>4</th>\n",
              "      <td>2010-01-08</td>\n",
              "      <td>36.500000</td>\n",
              "      <td>36.700001</td>\n",
              "      <td>35.099998</td>\n",
              "      <td>35.900002</td>\n",
              "      <td>27.885452</td>\n",
              "      <td>62409770</td>\n",
              "    </tr>\n",
              "    <tr>\n",
              "      <th>...</th>\n",
              "      <td>...</td>\n",
              "      <td>...</td>\n",
              "      <td>...</td>\n",
              "      <td>...</td>\n",
              "      <td>...</td>\n",
              "      <td>...</td>\n",
              "      <td>...</td>\n",
              "    </tr>\n",
              "    <tr>\n",
              "      <th>3611</th>\n",
              "      <td>2024-05-09</td>\n",
              "      <td>62.380001</td>\n",
              "      <td>63.430000</td>\n",
              "      <td>62.290001</td>\n",
              "      <td>63.320000</td>\n",
              "      <td>63.320000</td>\n",
              "      <td>11563000</td>\n",
              "    </tr>\n",
              "    <tr>\n",
              "      <th>3612</th>\n",
              "      <td>2024-05-10</td>\n",
              "      <td>63.580002</td>\n",
              "      <td>63.919998</td>\n",
              "      <td>63.119999</td>\n",
              "      <td>63.529999</td>\n",
              "      <td>63.529999</td>\n",
              "      <td>9548700</td>\n",
              "    </tr>\n",
              "    <tr>\n",
              "      <th>3613</th>\n",
              "      <td>2024-05-13</td>\n",
              "      <td>63.619999</td>\n",
              "      <td>63.950001</td>\n",
              "      <td>63.369999</td>\n",
              "      <td>63.400002</td>\n",
              "      <td>63.400002</td>\n",
              "      <td>6617900</td>\n",
              "    </tr>\n",
              "    <tr>\n",
              "      <th>3614</th>\n",
              "      <td>2024-05-14</td>\n",
              "      <td>63.509998</td>\n",
              "      <td>63.970001</td>\n",
              "      <td>63.230000</td>\n",
              "      <td>63.590000</td>\n",
              "      <td>63.590000</td>\n",
              "      <td>8322500</td>\n",
              "    </tr>\n",
              "    <tr>\n",
              "      <th>3615</th>\n",
              "      <td>2024-05-15</td>\n",
              "      <td>63.630001</td>\n",
              "      <td>64.389999</td>\n",
              "      <td>63.601501</td>\n",
              "      <td>64.239998</td>\n",
              "      <td>64.239998</td>\n",
              "      <td>9334105</td>\n",
              "    </tr>\n",
              "  </tbody>\n",
              "</table>\n",
              "<p>3616 rows × 7 columns</p>\n",
              "</div>"
            ],
            "text/plain": [
              "           Date       Open       High        Low      Close  Adj Close   \n",
              "0    2010-01-04  33.599998  34.099998  33.400002  34.000000  26.409618  \\\n",
              "1    2010-01-05  34.200001  35.500000  34.099998  35.299999  27.419401   \n",
              "2    2010-01-06  35.599998  36.799999  35.099998  36.400002  28.273832   \n",
              "3    2010-01-07  36.900002  37.000000  36.099998  36.500000  28.351507   \n",
              "4    2010-01-08  36.500000  36.700001  35.099998  35.900002  27.885452   \n",
              "...         ...        ...        ...        ...        ...        ...   \n",
              "3611 2024-05-09  62.380001  63.430000  62.290001  63.320000  63.320000   \n",
              "3612 2024-05-10  63.580002  63.919998  63.119999  63.529999  63.529999   \n",
              "3613 2024-05-13  63.619999  63.950001  63.369999  63.400002  63.400002   \n",
              "3614 2024-05-14  63.509998  63.970001  63.230000  63.590000  63.590000   \n",
              "3615 2024-05-15  63.630001  64.389999  63.601501  64.239998  64.239998   \n",
              "\n",
              "        Volume  \n",
              "0     40679350  \n",
              "1     66861710  \n",
              "2     67433890  \n",
              "3     67245190  \n",
              "4     62409770  \n",
              "...        ...  \n",
              "3611  11563000  \n",
              "3612   9548700  \n",
              "3613   6617900  \n",
              "3614   8322500  \n",
              "3615   9334105  \n",
              "\n",
              "[3616 rows x 7 columns]"
            ]
          },
          "execution_count": 43,
          "metadata": {},
          "output_type": "execute_result"
        }
      ],
      "source": [
        "# Reference: https://www.youtube.com/watch?v=CbTU92pbDKw&t\n",
        "\n",
        "import pandas as pd\n",
        "import numpy as np\n",
        "import matplotlib.pyplot as plt\n",
        "\n",
        "import torch\n",
        "import torch.nn as nn\n",
        "import yfinance as yf\n",
        "\n",
        "# data = pd.read_csv('AMZN.csv')\n",
        "data = yf.download(\"C\", start=\"2010-01-01\")\n",
        "data = data.reset_index()\n",
        "\n",
        "data"
      ]
    },
    {
      "cell_type": "code",
      "execution_count": 44,
      "id": "WtCP8-cDbg9R",
      "metadata": {
        "colab": {
          "base_uri": "https://localhost:8080/",
          "height": 423
        },
        "id": "WtCP8-cDbg9R",
        "outputId": "1a923823-8c15-4765-c9c9-19a233dc8131"
      },
      "outputs": [
        {
          "data": {
            "text/html": [
              "<div>\n",
              "<style scoped>\n",
              "    .dataframe tbody tr th:only-of-type {\n",
              "        vertical-align: middle;\n",
              "    }\n",
              "\n",
              "    .dataframe tbody tr th {\n",
              "        vertical-align: top;\n",
              "    }\n",
              "\n",
              "    .dataframe thead th {\n",
              "        text-align: right;\n",
              "    }\n",
              "</style>\n",
              "<table border=\"1\" class=\"dataframe\">\n",
              "  <thead>\n",
              "    <tr style=\"text-align: right;\">\n",
              "      <th></th>\n",
              "      <th>Date</th>\n",
              "      <th>Close</th>\n",
              "    </tr>\n",
              "  </thead>\n",
              "  <tbody>\n",
              "    <tr>\n",
              "      <th>0</th>\n",
              "      <td>2010-01-04</td>\n",
              "      <td>34.000000</td>\n",
              "    </tr>\n",
              "    <tr>\n",
              "      <th>1</th>\n",
              "      <td>2010-01-05</td>\n",
              "      <td>35.299999</td>\n",
              "    </tr>\n",
              "    <tr>\n",
              "      <th>2</th>\n",
              "      <td>2010-01-06</td>\n",
              "      <td>36.400002</td>\n",
              "    </tr>\n",
              "    <tr>\n",
              "      <th>3</th>\n",
              "      <td>2010-01-07</td>\n",
              "      <td>36.500000</td>\n",
              "    </tr>\n",
              "    <tr>\n",
              "      <th>4</th>\n",
              "      <td>2010-01-08</td>\n",
              "      <td>35.900002</td>\n",
              "    </tr>\n",
              "    <tr>\n",
              "      <th>...</th>\n",
              "      <td>...</td>\n",
              "      <td>...</td>\n",
              "    </tr>\n",
              "    <tr>\n",
              "      <th>3611</th>\n",
              "      <td>2024-05-09</td>\n",
              "      <td>63.320000</td>\n",
              "    </tr>\n",
              "    <tr>\n",
              "      <th>3612</th>\n",
              "      <td>2024-05-10</td>\n",
              "      <td>63.529999</td>\n",
              "    </tr>\n",
              "    <tr>\n",
              "      <th>3613</th>\n",
              "      <td>2024-05-13</td>\n",
              "      <td>63.400002</td>\n",
              "    </tr>\n",
              "    <tr>\n",
              "      <th>3614</th>\n",
              "      <td>2024-05-14</td>\n",
              "      <td>63.590000</td>\n",
              "    </tr>\n",
              "    <tr>\n",
              "      <th>3615</th>\n",
              "      <td>2024-05-15</td>\n",
              "      <td>64.239998</td>\n",
              "    </tr>\n",
              "  </tbody>\n",
              "</table>\n",
              "<p>3616 rows × 2 columns</p>\n",
              "</div>"
            ],
            "text/plain": [
              "           Date      Close\n",
              "0    2010-01-04  34.000000\n",
              "1    2010-01-05  35.299999\n",
              "2    2010-01-06  36.400002\n",
              "3    2010-01-07  36.500000\n",
              "4    2010-01-08  35.900002\n",
              "...         ...        ...\n",
              "3611 2024-05-09  63.320000\n",
              "3612 2024-05-10  63.529999\n",
              "3613 2024-05-13  63.400002\n",
              "3614 2024-05-14  63.590000\n",
              "3615 2024-05-15  64.239998\n",
              "\n",
              "[3616 rows x 2 columns]"
            ]
          },
          "execution_count": 44,
          "metadata": {},
          "output_type": "execute_result"
        }
      ],
      "source": [
        "data = data[['Date', 'Close']]\n",
        "data"
      ]
    },
    {
      "cell_type": "code",
      "execution_count": 45,
      "id": "9akB333XcFJ6",
      "metadata": {
        "colab": {
          "base_uri": "https://localhost:8080/",
          "height": 36
        },
        "id": "9akB333XcFJ6",
        "outputId": "2e8630de-1369-4281-d87c-9634ed90ba97"
      },
      "outputs": [
        {
          "data": {
            "text/plain": [
              "'cpu'"
            ]
          },
          "execution_count": 45,
          "metadata": {},
          "output_type": "execute_result"
        }
      ],
      "source": [
        "device = 'cuda:0' if torch.cuda.is_available() else 'cpu'\n",
        "device"
      ]
    },
    {
      "cell_type": "code",
      "execution_count": 46,
      "id": "tr2YuqKGcXcJ",
      "metadata": {
        "colab": {
          "base_uri": "https://localhost:8080/",
          "height": 551
        },
        "id": "tr2YuqKGcXcJ",
        "outputId": "bd197a93-bf7f-413c-fac0-5f4dc1a8471d"
      },
      "outputs": [
        {
          "name": "stderr",
          "output_type": "stream",
          "text": [
            "C:\\Users\\isss1\\AppData\\Local\\Temp\\ipykernel_19328\\1819287010.py:1: SettingWithCopyWarning: \n",
            "A value is trying to be set on a copy of a slice from a DataFrame.\n",
            "Try using .loc[row_indexer,col_indexer] = value instead\n",
            "\n",
            "See the caveats in the documentation: https://pandas.pydata.org/pandas-docs/stable/user_guide/indexing.html#returning-a-view-versus-a-copy\n",
            "  data['Date'] = pd.to_datetime(data['Date'])\n"
          ]
        },
        {
          "data": {
            "text/plain": [
              "[<matplotlib.lines.Line2D at 0x1a953c1fc10>]"
            ]
          },
          "execution_count": 46,
          "metadata": {},
          "output_type": "execute_result"
        },
        {
          "data": {
            "image/png": "[encoded data removed]",
            "text/plain": [
              "<Figure size 640x480 with 1 Axes>"
            ]
          },
          "metadata": {},
          "output_type": "display_data"
        }
      ],
      "source": [
        "data['Date'] = pd.to_datetime(data['Date'])\n",
        "\n",
        "plt.plot(data['Date'], data['Close'])"
      ]
    },
    {
      "cell_type": "code",
      "execution_count": 47,
      "id": "Q4ma6QCscwfB",
      "metadata": {
        "colab": {
          "base_uri": "https://localhost:8080/",
          "height": 455
        },
        "id": "Q4ma6QCscwfB",
        "outputId": "61bd4c08-c3f7-453d-ed92-c2232a18a5ba"
      },
      "outputs": [
        {
          "data": {
            "text/html": [
              "<div>\n",
              "<style scoped>\n",
              "    .dataframe tbody tr th:only-of-type {\n",
              "        vertical-align: middle;\n",
              "    }\n",
              "\n",
              "    .dataframe tbody tr th {\n",
              "        vertical-align: top;\n",
              "    }\n",
              "\n",
              "    .dataframe thead th {\n",
              "        text-align: right;\n",
              "    }\n",
              "</style>\n",
              "<table border=\"1\" class=\"dataframe\">\n",
              "  <thead>\n",
              "    <tr style=\"text-align: right;\">\n",
              "      <th></th>\n",
              "      <th>Close</th>\n",
              "      <th>Close(t-1)</th>\n",
              "      <th>Close(t-2)</th>\n",
              "      <th>Close(t-3)</th>\n",
              "      <th>Close(t-4)</th>\n",
              "      <th>Close(t-5)</th>\n",
              "      <th>Close(t-6)</th>\n",
              "      <th>Close(t-7)</th>\n",
              "    </tr>\n",
              "    <tr>\n",
              "      <th>Date</th>\n",
              "      <th></th>\n",
              "      <th></th>\n",
              "      <th></th>\n",
              "      <th></th>\n",
              "      <th></th>\n",
              "      <th></th>\n",
              "      <th></th>\n",
              "      <th></th>\n",
              "    </tr>\n",
              "  </thead>\n",
              "  <tbody>\n",
              "    <tr>\n",
              "      <th>2010-01-13</th>\n",
              "      <td>35.000000</td>\n",
              "      <td>35.200001</td>\n",
              "      <td>36.299999</td>\n",
              "      <td>35.900002</td>\n",
              "      <td>36.500000</td>\n",
              "      <td>36.400002</td>\n",
              "      <td>35.299999</td>\n",
              "      <td>34.000000</td>\n",
              "    </tr>\n",
              "    <tr>\n",
              "      <th>2010-01-14</th>\n",
              "      <td>35.099998</td>\n",
              "      <td>35.000000</td>\n",
              "      <td>35.200001</td>\n",
              "      <td>36.299999</td>\n",
              "      <td>35.900002</td>\n",
              "      <td>36.500000</td>\n",
              "      <td>36.400002</td>\n",
              "      <td>35.299999</td>\n",
              "    </tr>\n",
              "    <tr>\n",
              "      <th>2010-01-15</th>\n",
              "      <td>34.200001</td>\n",
              "      <td>35.099998</td>\n",
              "      <td>35.000000</td>\n",
              "      <td>35.200001</td>\n",
              "      <td>36.299999</td>\n",
              "      <td>35.900002</td>\n",
              "      <td>36.500000</td>\n",
              "      <td>36.400002</td>\n",
              "    </tr>\n",
              "    <tr>\n",
              "      <th>2010-01-19</th>\n",
              "      <td>35.400002</td>\n",
              "      <td>34.200001</td>\n",
              "      <td>35.099998</td>\n",
              "      <td>35.000000</td>\n",
              "      <td>35.200001</td>\n",
              "      <td>36.299999</td>\n",
              "      <td>35.900002</td>\n",
              "      <td>36.500000</td>\n",
              "    </tr>\n",
              "    <tr>\n",
              "      <th>2010-01-20</th>\n",
              "      <td>34.599998</td>\n",
              "      <td>35.400002</td>\n",
              "      <td>34.200001</td>\n",
              "      <td>35.099998</td>\n",
              "      <td>35.000000</td>\n",
              "      <td>35.200001</td>\n",
              "      <td>36.299999</td>\n",
              "      <td>35.900002</td>\n",
              "    </tr>\n",
              "    <tr>\n",
              "      <th>...</th>\n",
              "      <td>...</td>\n",
              "      <td>...</td>\n",
              "      <td>...</td>\n",
              "      <td>...</td>\n",
              "      <td>...</td>\n",
              "      <td>...</td>\n",
              "      <td>...</td>\n",
              "      <td>...</td>\n",
              "    </tr>\n",
              "    <tr>\n",
              "      <th>2024-05-09</th>\n",
              "      <td>63.320000</td>\n",
              "      <td>62.750000</td>\n",
              "      <td>62.000000</td>\n",
              "      <td>62.810001</td>\n",
              "      <td>61.520000</td>\n",
              "      <td>61.540001</td>\n",
              "      <td>61.349998</td>\n",
              "      <td>61.330002</td>\n",
              "    </tr>\n",
              "    <tr>\n",
              "      <th>2024-05-10</th>\n",
              "      <td>63.529999</td>\n",
              "      <td>63.320000</td>\n",
              "      <td>62.750000</td>\n",
              "      <td>62.000000</td>\n",
              "      <td>62.810001</td>\n",
              "      <td>61.520000</td>\n",
              "      <td>61.540001</td>\n",
              "      <td>61.349998</td>\n",
              "    </tr>\n",
              "    <tr>\n",
              "      <th>2024-05-13</th>\n",
              "      <td>63.400002</td>\n",
              "      <td>63.529999</td>\n",
              "      <td>63.320000</td>\n",
              "      <td>62.750000</td>\n",
              "      <td>62.000000</td>\n",
              "      <td>62.810001</td>\n",
              "      <td>61.520000</td>\n",
              "      <td>61.540001</td>\n",
              "    </tr>\n",
              "    <tr>\n",
              "      <th>2024-05-14</th>\n",
              "      <td>63.590000</td>\n",
              "      <td>63.400002</td>\n",
              "      <td>63.529999</td>\n",
              "      <td>63.320000</td>\n",
              "      <td>62.750000</td>\n",
              "      <td>62.000000</td>\n",
              "      <td>62.810001</td>\n",
              "      <td>61.520000</td>\n",
              "    </tr>\n",
              "    <tr>\n",
              "      <th>2024-05-15</th>\n",
              "      <td>64.239998</td>\n",
              "      <td>63.590000</td>\n",
              "      <td>63.400002</td>\n",
              "      <td>63.529999</td>\n",
              "      <td>63.320000</td>\n",
              "      <td>62.750000</td>\n",
              "      <td>62.000000</td>\n",
              "      <td>62.810001</td>\n",
              "    </tr>\n",
              "  </tbody>\n",
              "</table>\n",
              "<p>3609 rows × 8 columns</p>\n",
              "</div>"
            ],
            "text/plain": [
              "                Close  Close(t-1)  Close(t-2)  Close(t-3)  Close(t-4)   \n",
              "Date                                                                    \n",
              "2010-01-13  35.000000   35.200001   36.299999   35.900002   36.500000  \\\n",
              "2010-01-14  35.099998   35.000000   35.200001   36.299999   35.900002   \n",
              "2010-01-15  34.200001   35.099998   35.000000   35.200001   36.299999   \n",
              "2010-01-19  35.400002   34.200001   35.099998   35.000000   35.200001   \n",
              "2010-01-20  34.599998   35.400002   34.200001   35.099998   35.000000   \n",
              "...               ...         ...         ...         ...         ...   \n",
              "2024-05-09  63.320000   62.750000   62.000000   62.810001   61.520000   \n",
              "2024-05-10  63.529999   63.320000   62.750000   62.000000   62.810001   \n",
              "2024-05-13  63.400002   63.529999   63.320000   62.750000   62.000000   \n",
              "2024-05-14  63.590000   63.400002   63.529999   63.320000   62.750000   \n",
              "2024-05-15  64.239998   63.590000   63.400002   63.529999   63.320000   \n",
              "\n",
              "            Close(t-5)  Close(t-6)  Close(t-7)  \n",
              "Date                                            \n",
              "2010-01-13   36.400002   35.299999   34.000000  \n",
              "2010-01-14   36.500000   36.400002   35.299999  \n",
              "2010-01-15   35.900002   36.500000   36.400002  \n",
              "2010-01-19   36.299999   35.900002   36.500000  \n",
              "2010-01-20   35.200001   36.299999   35.900002  \n",
              "...                ...         ...         ...  \n",
              "2024-05-09   61.540001   61.349998   61.330002  \n",
              "2024-05-10   61.520000   61.540001   61.349998  \n",
              "2024-05-13   62.810001   61.520000   61.540001  \n",
              "2024-05-14   62.000000   62.810001   61.520000  \n",
              "2024-05-15   62.750000   62.000000   62.810001  \n",
              "\n",
              "[3609 rows x 8 columns]"
            ]
          },
          "execution_count": 47,
          "metadata": {},
          "output_type": "execute_result"
        }
      ],
      "source": [
        "from copy import deepcopy as dc\n",
        "\n",
        "def prepare_dataframe_for_lstm(df, n_steps):\n",
        "    df = dc(df)\n",
        "\n",
        "    df.set_index('Date', inplace=True)\n",
        "\n",
        "    for i in range(1, n_steps+1):\n",
        "        df[f'Close(t-{i})'] = df['Close'].shift(i)\n",
        "\n",
        "    df.dropna(inplace=True)\n",
        "\n",
        "    return df\n",
        "\n",
        "lookback = 7\n",
        "shifted_df = prepare_dataframe_for_lstm(data, lookback)\n",
        "shifted_df"
      ]
    },
    {
      "cell_type": "code",
      "execution_count": 48,
      "id": "yWcD1tHjfAU-",
      "metadata": {
        "colab": {
          "base_uri": "https://localhost:8080/"
        },
        "id": "yWcD1tHjfAU-",
        "outputId": "e10f8cdf-7b44-4c1a-d0a2-9007aac1685c"
      },
      "outputs": [
        {
          "data": {
            "text/plain": [
              "array([[35.        , 35.20000076, 36.29999924, ..., 36.40000153,\n",
              "        35.29999924, 34.        ],\n",
              "       [35.09999847, 35.        , 35.20000076, ..., 36.5       ,\n",
              "        36.40000153, 35.29999924],\n",
              "       [34.20000076, 35.09999847, 35.        , ..., 35.90000153,\n",
              "        36.5       , 36.40000153],\n",
              "       ...,\n",
              "       [63.40000153, 63.52999878, 63.31999969, ..., 62.81000137,\n",
              "        61.52000046, 61.54000092],\n",
              "       [63.59000015, 63.40000153, 63.52999878, ..., 62.        ,\n",
              "        62.81000137, 61.52000046],\n",
              "       [64.23999786, 63.59000015, 63.40000153, ..., 62.75      ,\n",
              "        62.        , 62.81000137]])"
            ]
          },
          "execution_count": 48,
          "metadata": {},
          "output_type": "execute_result"
        }
      ],
      "source": [
        "shifted_df_as_np = shifted_df.to_numpy()\n",
        "\n",
        "shifted_df_as_np"
      ]
    },
    {
      "cell_type": "code",
      "execution_count": 49,
      "id": "Pq2p3opGELA_",
      "metadata": {
        "colab": {
          "base_uri": "https://localhost:8080/"
        },
        "id": "Pq2p3opGELA_",
        "outputId": "5cb2ff07-5d8f-4117-eafd-6a3c5663c6ff"
      },
      "outputs": [
        {
          "data": {
            "text/plain": [
              "(3609, 8)"
            ]
          },
          "execution_count": 49,
          "metadata": {},
          "output_type": "execute_result"
        }
      ],
      "source": [
        "shifted_df_as_np.shape"
      ]
    },
    {
      "cell_type": "code",
      "execution_count": 50,
      "id": "pXHkuFeafNUU",
      "metadata": {
        "colab": {
          "base_uri": "https://localhost:8080/"
        },
        "id": "pXHkuFeafNUU",
        "outputId": "a67d1f79-d279-4c96-e40f-0d9a5f9f7d7d"
      },
      "outputs": [
        {
          "data": {
            "text/plain": [
              "array([[-0.59557827, -0.58877553, -0.55136061, ..., -0.54795918,\n",
              "        -0.58537422, -0.62959188],\n",
              "       [-0.59217696, -0.59557827, -0.58877553, ..., -0.54455787,\n",
              "        -0.54795918, -0.58537422],\n",
              "       [-0.62278913, -0.59217696, -0.59557827, ..., -0.56496598,\n",
              "        -0.54455787, -0.54795918],\n",
              "       ...,\n",
              "       [ 0.37040812,  0.3748298 ,  0.36768697, ...,  0.35034009,\n",
              "         0.30646251,  0.3071428 ],\n",
              "       [ 0.37687066,  0.37040812,  0.3748298 , ...,  0.32278903,\n",
              "         0.35034009,  0.30646251],\n",
              "       [ 0.39897943,  0.37687066,  0.37040812, ...,  0.34829923,\n",
              "         0.32278903,  0.35034009]])"
            ]
          },
          "execution_count": 50,
          "metadata": {},
          "output_type": "execute_result"
        }
      ],
      "source": [
        "from sklearn.preprocessing import MinMaxScaler\n",
        "\n",
        "scaler = MinMaxScaler(feature_range=(-1, 1))\n",
        "shifted_df_as_np = scaler.fit_transform(shifted_df_as_np)\n",
        "\n",
        "shifted_df_as_np"
      ]
    },
    {
      "cell_type": "code",
      "execution_count": 51,
      "id": "Iui9unuTfxOe",
      "metadata": {
        "colab": {
          "base_uri": "https://localhost:8080/"
        },
        "id": "Iui9unuTfxOe",
        "outputId": "642f093d-5071-43ef-fb9c-4c54061aec3e"
      },
      "outputs": [
        {
          "data": {
            "text/plain": [
              "((3609, 7), (3609,))"
            ]
          },
          "execution_count": 51,
          "metadata": {},
          "output_type": "execute_result"
        }
      ],
      "source": [
        "X = shifted_df_as_np[:, 1:]\n",
        "y = shifted_df_as_np[:, 0]\n",
        "\n",
        "X.shape, y.shape"
      ]
    },
    {
      "cell_type": "code",
      "execution_count": 52,
      "id": "XmbIqwj-E0cv",
      "metadata": {
        "colab": {
          "base_uri": "https://localhost:8080/"
        },
        "id": "XmbIqwj-E0cv",
        "outputId": "48ccc3a1-1b5c-49fd-ae2f-3f8b143fbb4c"
      },
      "outputs": [
        {
          "data": {
            "text/plain": [
              "array([[-0.62959188, -0.58537422, -0.54795918, ..., -0.56496598,\n",
              "        -0.55136061, -0.58877553],\n",
              "       [-0.58537422, -0.54795918, -0.54455787, ..., -0.55136061,\n",
              "        -0.58877553, -0.59557827],\n",
              "       [-0.54795918, -0.54455787, -0.56496598, ..., -0.58877553,\n",
              "        -0.59557827, -0.59217696],\n",
              "       ...,\n",
              "       [ 0.3071428 ,  0.30646251,  0.35034009, ...,  0.34829923,\n",
              "         0.36768697,  0.3748298 ],\n",
              "       [ 0.30646251,  0.35034009,  0.32278903, ...,  0.36768697,\n",
              "         0.3748298 ,  0.37040812],\n",
              "       [ 0.35034009,  0.32278903,  0.34829923, ...,  0.3748298 ,\n",
              "         0.37040812,  0.37687066]])"
            ]
          },
          "execution_count": 52,
          "metadata": {},
          "output_type": "execute_result"
        }
      ],
      "source": [
        "X = dc(np.flip(X, axis=1))\n",
        "X"
      ]
    },
    {
      "cell_type": "code",
      "execution_count": 53,
      "id": "GCHslawXgE21",
      "metadata": {
        "colab": {
          "base_uri": "https://localhost:8080/"
        },
        "id": "GCHslawXgE21",
        "outputId": "a2e50719-a1fb-460e-9ce4-9dd873642765"
      },
      "outputs": [
        {
          "data": {
            "text/plain": [
              "3428"
            ]
          },
          "execution_count": 53,
          "metadata": {},
          "output_type": "execute_result"
        }
      ],
      "source": [
        "split_index = int(len(X) * 0.95)\n",
        "\n",
        "split_index"
      ]
    },
    {
      "cell_type": "code",
      "execution_count": 54,
      "id": "hhGMh_nAgiST",
      "metadata": {
        "colab": {
          "base_uri": "https://localhost:8080/"
        },
        "id": "hhGMh_nAgiST",
        "outputId": "aeb231ef-e124-4821-f4ee-dbb2275c0f98"
      },
      "outputs": [
        {
          "data": {
            "text/plain": [
              "((3428, 7), (181, 7), (3428,), (181,))"
            ]
          },
          "execution_count": 54,
          "metadata": {},
          "output_type": "execute_result"
        }
      ],
      "source": [
        "X_train = X[:split_index]\n",
        "X_test = X[split_index:]\n",
        "\n",
        "y_train = y[:split_index]\n",
        "y_test = y[split_index:]\n",
        "\n",
        "X_train.shape, X_test.shape, y_train.shape, y_test.shape"
      ]
    },
    {
      "cell_type": "code",
      "execution_count": 55,
      "id": "Muqs9hKYhMUS",
      "metadata": {
        "colab": {
          "base_uri": "https://localhost:8080/"
        },
        "id": "Muqs9hKYhMUS",
        "outputId": "d35136a0-5855-4bfb-b66b-b8f7a1a8ea96"
      },
      "outputs": [
        {
          "data": {
            "text/plain": [
              "((3428, 7, 1), (181, 7, 1), (3428, 1), (181, 1))"
            ]
          },
          "execution_count": 55,
          "metadata": {},
          "output_type": "execute_result"
        }
      ],
      "source": [
        "X_train = X_train.reshape((-1, lookback, 1))\n",
        "X_test = X_test.reshape((-1, lookback, 1))\n",
        "\n",
        "y_train = y_train.reshape((-1, 1))\n",
        "y_test = y_test.reshape((-1, 1))\n",
        "\n",
        "X_train.shape, X_test.shape, y_train.shape, y_test.shape"
      ]
    },
    {
      "cell_type": "code",
      "execution_count": 56,
      "id": "i7-PBcrMhR7z",
      "metadata": {
        "colab": {
          "base_uri": "https://localhost:8080/"
        },
        "id": "i7-PBcrMhR7z",
        "outputId": "b01a297a-75d6-4573-e450-a3545360112e"
      },
      "outputs": [
        {
          "data": {
            "text/plain": [
              "(torch.Size([3428, 7, 1]),\n",
              " torch.Size([181, 7, 1]),\n",
              " torch.Size([3428, 1]),\n",
              " torch.Size([181, 1]))"
            ]
          },
          "execution_count": 56,
          "metadata": {},
          "output_type": "execute_result"
        }
      ],
      "source": [
        "X_train = torch.tensor(X_train).float()\n",
        "y_train = torch.tensor(y_train).float()\n",
        "X_test = torch.tensor(X_test).float()\n",
        "y_test = torch.tensor(y_test).float()\n",
        "\n",
        "X_train.shape, X_test.shape, y_train.shape, y_test.shape"
      ]
    },
    {
      "cell_type": "code",
      "execution_count": 57,
      "id": "DWutCAGKhdqU",
      "metadata": {
        "id": "DWutCAGKhdqU"
      },
      "outputs": [],
      "source": [
        "from torch.utils.data import Dataset\n",
        "\n",
        "class TimeSeriesDataset(Dataset):\n",
        "    def __init__(self, X, y):\n",
        "        self.X = X\n",
        "        self.y = y\n",
        "\n",
        "    def __len__(self):\n",
        "        return len(self.X)\n",
        "\n",
        "    def __getitem__(self, i):\n",
        "        return self.X[i], self.y[i]\n",
        "\n",
        "train_dataset = TimeSeriesDataset(X_train, y_train)\n",
        "test_dataset = TimeSeriesDataset(X_test, y_test)"
      ]
    },
    {
      "cell_type": "code",
      "execution_count": 58,
      "id": "12OWUTa5ijoq",
      "metadata": {
        "colab": {
          "base_uri": "https://localhost:8080/"
        },
        "id": "12OWUTa5ijoq",
        "outputId": "0928d3c2-d181-4035-cc57-a2ac6ce38075"
      },
      "outputs": [
        {
          "data": {
            "text/plain": [
              "<__main__.TimeSeriesDataset at 0x1a953c01cd0>"
            ]
          },
          "execution_count": 58,
          "metadata": {},
          "output_type": "execute_result"
        }
      ],
      "source": [
        "train_dataset"
      ]
    },
    {
      "cell_type": "code",
      "execution_count": 59,
      "id": "XYsUmPl3ik46",
      "metadata": {
        "id": "XYsUmPl3ik46"
      },
      "outputs": [],
      "source": [
        "from torch.utils.data import DataLoader\n",
        "\n",
        "batch_size = 16\n",
        "\n",
        "train_loader = DataLoader(train_dataset, batch_size=batch_size, shuffle=True)\n",
        "test_loader = DataLoader(test_dataset, batch_size=batch_size, shuffle=False)"
      ]
    },
    {
      "cell_type": "code",
      "execution_count": 60,
      "id": "TJTnbgBDjOSK",
      "metadata": {
        "colab": {
          "base_uri": "https://localhost:8080/"
        },
        "id": "TJTnbgBDjOSK",
        "outputId": "51226616-d4de-4a22-f4d9-576fd3e8bfba"
      },
      "outputs": [
        {
          "name": "stdout",
          "output_type": "stream",
          "text": [
            "torch.Size([16, 7, 1]) torch.Size([16, 1])\n"
          ]
        }
      ],
      "source": [
        "for _, batch in enumerate(train_loader):\n",
        "    x_batch, y_batch = batch[0].to(device), batch[1].to(device)\n",
        "    print(x_batch.shape, y_batch.shape)\n",
        "    break"
      ]
    },
    {
      "cell_type": "code",
      "execution_count": 61,
      "id": "njdkq_kmjib5",
      "metadata": {
        "colab": {
          "base_uri": "https://localhost:8080/"
        },
        "id": "njdkq_kmjib5",
        "outputId": "db355c8d-cc21-43f5-cdfa-2156444b4531"
      },
      "outputs": [
        {
          "data": {
            "text/plain": [
              "LSTM(\n",
              "  (lstm): LSTM(1, 4, batch_first=True)\n",
              "  (fc): Linear(in_features=4, out_features=1, bias=True)\n",
              ")"
            ]
          },
          "execution_count": 61,
          "metadata": {},
          "output_type": "execute_result"
        }
      ],
      "source": [
        "class LSTM(nn.Module):\n",
        "    def __init__(self, input_size, hidden_size, num_stacked_layers):\n",
        "        super().__init__()\n",
        "        self.hidden_size = hidden_size\n",
        "        self.num_stacked_layers = num_stacked_layers\n",
        "\n",
        "        self.lstm = nn.LSTM(input_size, hidden_size, num_stacked_layers,\n",
        "                            batch_first=True)\n",
        "\n",
        "        self.fc = nn.Linear(hidden_size, 1)\n",
        "\n",
        "    def forward(self, x):\n",
        "        batch_size = x.size(0)\n",
        "        h0 = torch.zeros(self.num_stacked_layers, batch_size, self.hidden_size).to(device)\n",
        "        c0 = torch.zeros(self.num_stacked_layers, batch_size, self.hidden_size).to(device)\n",
        "\n",
        "        out, _ = self.lstm(x, (h0, c0))\n",
        "        out = self.fc(out[:, -1, :])\n",
        "        return out\n",
        "\n",
        "model = LSTM(1, 4, 1)\n",
        "model.to(device)\n",
        "model"
      ]
    },
    {
      "cell_type": "code",
      "execution_count": 62,
      "id": "iue5WvTxmVKB",
      "metadata": {
        "id": "iue5WvTxmVKB"
      },
      "outputs": [],
      "source": [
        "def train_one_epoch():\n",
        "    model.train(True)\n",
        "    print(f'Epoch: {epoch + 1}')\n",
        "    running_loss = 0.0\n",
        "\n",
        "    for batch_index, batch in enumerate(train_loader):\n",
        "        x_batch, y_batch = batch[0].to(device), batch[1].to(device)\n",
        "\n",
        "        output = model(x_batch)\n",
        "        loss = loss_function(output, y_batch)\n",
        "        running_loss += loss.item()\n",
        "\n",
        "        optimizer.zero_grad()\n",
        "        loss.backward()\n",
        "        optimizer.step()\n",
        "\n",
        "        if batch_index % 100 == 99:  # print every 100 batches\n",
        "            avg_loss_across_batches = running_loss / 100\n",
        "            print('Batch {0}, Loss: {1:.3f}'.format(batch_index+1,\n",
        "                                                    avg_loss_across_batches))\n",
        "            running_loss = 0.0\n",
        "    print()"
      ]
    },
    {
      "cell_type": "code",
      "execution_count": 63,
      "id": "gRmNuV3cmy-t",
      "metadata": {
        "id": "gRmNuV3cmy-t"
      },
      "outputs": [],
      "source": [
        "def validate_one_epoch():\n",
        "    model.train(False)\n",
        "    running_loss = 0.0\n",
        "\n",
        "    for batch_index, batch in enumerate(test_loader):\n",
        "        x_batch, y_batch = batch[0].to(device), batch[1].to(device)\n",
        "\n",
        "        with torch.no_grad():\n",
        "            output = model(x_batch)\n",
        "            loss = loss_function(output, y_batch)\n",
        "            running_loss += loss.item()\n",
        "\n",
        "    avg_loss_across_batches = running_loss / len(test_loader)\n",
        "\n",
        "    print('Val Loss: {0:.3f}'.format(avg_loss_across_batches))\n",
        "    print('***************************************************')\n",
        "    print()"
      ]
    },
    {
      "cell_type": "code",
      "execution_count": 64,
      "id": "1jgb1aJ3lxlQ",
      "metadata": {
        "colab": {
          "base_uri": "https://localhost:8080/"
        },
        "id": "1jgb1aJ3lxlQ",
        "outputId": "2a25db36-4872-44e4-feca-4d26bad49f96"
      },
      "outputs": [
        {
          "name": "stdout",
          "output_type": "stream",
          "text": [
            "Epoch: 1\n",
            "Batch 100, Loss: 0.386\n",
            "Batch 200, Loss: 0.213\n",
            "\n",
            "Val Loss: 0.060\n",
            "***************************************************\n",
            "\n",
            "Epoch: 2\n",
            "Batch 100, Loss: 0.109\n",
            "Batch 200, Loss: 0.039\n",
            "\n",
            "Val Loss: 0.004\n",
            "***************************************************\n",
            "\n",
            "Epoch: 3\n",
            "Batch 100, Loss: 0.018\n",
            "Batch 200, Loss: 0.013\n",
            "\n",
            "Val Loss: 0.004\n",
            "***************************************************\n",
            "\n",
            "Epoch: 4\n",
            "Batch 100, Loss: 0.011\n",
            "Batch 200, Loss: 0.008\n",
            "\n",
            "Val Loss: 0.003\n",
            "***************************************************\n",
            "\n",
            "Epoch: 5\n",
            "Batch 100, Loss: 0.007\n",
            "Batch 200, Loss: 0.006\n",
            "\n",
            "Val Loss: 0.002\n",
            "***************************************************\n",
            "\n",
            "Epoch: 6\n",
            "Batch 100, Loss: 0.005\n",
            "Batch 200, Loss: 0.004\n",
            "\n",
            "Val Loss: 0.002\n",
            "***************************************************\n",
            "\n",
            "Epoch: 7\n",
            "Batch 100, Loss: 0.004\n",
            "Batch 200, Loss: 0.003\n",
            "\n",
            "Val Loss: 0.002\n",
            "***************************************************\n",
            "\n",
            "Epoch: 8\n",
            "Batch 100, Loss: 0.003\n",
            "Batch 200, Loss: 0.003\n",
            "\n",
            "Val Loss: 0.001\n",
            "***************************************************\n",
            "\n",
            "Epoch: 9\n",
            "Batch 100, Loss: 0.002\n",
            "Batch 200, Loss: 0.002\n",
            "\n",
            "Val Loss: 0.001\n",
            "***************************************************\n",
            "\n",
            "Epoch: 10\n",
            "Batch 100, Loss: 0.002\n",
            "Batch 200, Loss: 0.002\n",
            "\n",
            "Val Loss: 0.001\n",
            "***************************************************\n",
            "\n"
          ]
        }
      ],
      "source": [
        "learning_rate = 0.001\n",
        "num_epochs = 10\n",
        "loss_function = nn.MSELoss()\n",
        "optimizer = torch.optim.Adam(model.parameters(), lr=learning_rate)\n",
        "\n",
        "for epoch in range(num_epochs):\n",
        "    train_one_epoch()\n",
        "    validate_one_epoch()"
      ]
    },
    {
      "cell_type": "code",
      "execution_count": 65,
      "id": "-Xon2PHWno7t",
      "metadata": {
        "colab": {
          "base_uri": "https://localhost:8080/",
          "height": 449
        },
        "id": "-Xon2PHWno7t",
        "outputId": "862b1d87-3e42-4fe1-8618-3cf0720e0da5"
      },
      "outputs": [
        {
          "data": {
            "image/png": "[encoded data removed]",
            "text/plain": [
              "<Figure size 640x480 with 1 Axes>"
            ]
          },
          "metadata": {},
          "output_type": "display_data"
        }
      ],
      "source": [
        "with torch.no_grad():\n",
        "    predicted = model(X_train.to(device)).to('cpu').numpy()\n",
        "\n",
        "plt.plot(y_train, label='Actual Close')\n",
        "plt.plot(predicted, label='Predicted Close')\n",
        "plt.xlabel('Day')\n",
        "plt.ylabel('Close')\n",
        "plt.legend()\n",
        "plt.show()\n"
      ]
    },
    {
      "cell_type": "code",
      "execution_count": 66,
      "id": "d3SDgEvPpOcD",
      "metadata": {
        "colab": {
          "base_uri": "https://localhost:8080/"
        },
        "id": "d3SDgEvPpOcD",
        "outputId": "e9b8491e-b15e-4aa5-ae97-6619bb4a3be9"
      },
      "outputs": [
        {
          "data": {
            "text/plain": [
              "array([35.82442896, 35.30425698, 34.91725511, ..., 41.2797378 ,\n",
              "       41.02022659, 40.78574458])"
            ]
          },
          "execution_count": 66,
          "metadata": {},
          "output_type": "execute_result"
        }
      ],
      "source": [
        "train_predictions = predicted.flatten()\n",
        "\n",
        "dummies = np.zeros((X_train.shape[0], lookback+1))\n",
        "dummies[:, 0] = train_predictions\n",
        "dummies = scaler.inverse_transform(dummies)\n",
        "\n",
        "train_predictions = dc(dummies[:, 0])\n",
        "train_predictions"
      ]
    },
    {
      "cell_type": "code",
      "execution_count": 67,
      "id": "PHnvejOdrL7Q",
      "metadata": {
        "colab": {
          "base_uri": "https://localhost:8080/"
        },
        "id": "PHnvejOdrL7Q",
        "outputId": "952cb861-3f21-42d2-f1b2-9e489c9cdcd7"
      },
      "outputs": [
        {
          "data": {
            "text/plain": [
              "array([35.00000058, 35.0999982 , 34.20000034, ..., 41.08000191,\n",
              "       41.08000191, 41.24000178])"
            ]
          },
          "execution_count": 67,
          "metadata": {},
          "output_type": "execute_result"
        }
      ],
      "source": [
        "dummies = np.zeros((X_train.shape[0], lookback+1))\n",
        "dummies[:, 0] = y_train.flatten()\n",
        "dummies = scaler.inverse_transform(dummies)\n",
        "\n",
        "new_y_train = dc(dummies[:, 0])\n",
        "new_y_train"
      ]
    },
    {
      "cell_type": "code",
      "execution_count": 68,
      "id": "2LlDAUtyrcrN",
      "metadata": {
        "colab": {
          "base_uri": "https://localhost:8080/",
          "height": 449
        },
        "id": "2LlDAUtyrcrN",
        "outputId": "819c2ff2-be0d-4781-d164-915936251f66"
      },
      "outputs": [
        {
          "data": {
            "image/png": "[encoded data removed]",
            "text/plain": [
              "<Figure size 640x480 with 1 Axes>"
            ]
          },
          "metadata": {},
          "output_type": "display_data"
        }
      ],
      "source": [
        "plt.plot(new_y_train, label='Actual Close')\n",
        "plt.plot(train_predictions, label='Predicted Close')\n",
        "plt.xlabel('Day')\n",
        "plt.ylabel('Close')\n",
        "plt.legend()\n",
        "plt.show()\n"
      ]
    },
    {
      "cell_type": "code",
      "execution_count": 69,
      "id": "yYeC2JMorftR",
      "metadata": {
        "colab": {
          "base_uri": "https://localhost:8080/"
        },
        "id": "yYeC2JMorftR",
        "outputId": "94df7137-866f-42aa-cb02-5a78961f6779"
      },
      "outputs": [
        {
          "data": {
            "text/plain": [
              "array([40.71856985, 40.84923406, 41.21391941, 41.46240817, 41.43882469,\n",
              "       41.46283575, 41.38196445, 41.31542933, 41.04245637, 40.77941499,\n",
              "       40.49868601, 40.69317791, 41.34925458, 42.31729899, 43.02896806,\n",
              "       43.28280507, 43.17609147, 42.69702937, 42.11034155, 41.39061418,\n",
              "       40.94276716, 40.34048845, 40.03418002, 40.25046098, 40.60972798,\n",
              "       40.73163995, 40.45189667, 40.10195407, 39.68376427, 39.68710343,\n",
              "       40.06063916, 40.74879309, 41.33993282, 41.66741609, 41.73112024,\n",
              "       41.43782758, 41.21466505, 40.75769516, 40.31079355, 39.83790771,\n",
              "       39.23750141, 38.79927757, 38.41395536, 38.52810167, 38.38744891,\n",
              "       38.48880637, 38.80481683, 39.10074944, 39.97880843, 41.12490306,\n",
              "       42.12739305, 42.53639075, 42.54130617, 42.14390219, 41.7811576 ,\n",
              "       41.97201244, 43.00848978, 44.23066648, 45.13936752, 45.82933341,\n",
              "       45.9487938 , 45.7052003 , 45.300644  , 45.19995331, 45.11574198,\n",
              "       44.90292372, 45.1894741 , 45.64201924, 46.49681805, 47.31237414,\n",
              "       47.6301694 , 47.98034025, 48.28015043, 48.75681791, 48.80927311,\n",
              "       48.76587112, 49.00916365, 49.41257346, 49.89117819, 50.2320632 ,\n",
              "       50.85673115, 50.71339287, 50.56539328, 50.70093961, 51.14561132,\n",
              "       51.44248845, 51.59151757, 51.80681282, 52.3295494 , 53.13589412,\n",
              "       53.88092669, 54.62568239, 54.84438425, 54.46146454, 53.61562913,\n",
              "       52.64160124, 52.10829783, 51.54738222, 51.17366336, 50.86422431,\n",
              "       50.83857215, 51.5153882 , 52.40163779, 53.36979698, 54.07917043,\n",
              "       54.28477153, 54.31076628, 55.50444846, 56.43371802, 57.00143548,\n",
              "       56.82099501, 55.90218013, 54.75683288, 53.89764437, 53.81468072,\n",
              "       53.70796887, 53.7347592 , 53.28759386, 53.23423312, 53.86551191,\n",
              "       54.55735021, 55.36180149, 55.81153319, 56.18657158, 56.10597978,\n",
              "       55.86246251, 55.87083624, 55.45515585, 55.32875693, 55.29079957,\n",
              "       55.66931205, 56.12375764, 56.83142516, 57.63646874, 57.97954554,\n",
              "       58.06562929, 57.93238908, 57.87474991, 57.49108982, 57.49543221,\n",
              "       58.02337773, 58.60769196, 59.60247938, 60.86490729, 61.57589731,\n",
              "       61.78745123, 61.99777323, 62.54600601, 63.09591407, 63.65667986,\n",
              "       63.83360681, 63.22700762, 62.20749416, 61.62751006, 61.44242404,\n",
              "       61.52504509, 61.17139095, 61.05021586, 60.4295258 , 59.38830566,\n",
              "       58.0395732 , 57.52411862, 57.50621897, 58.01825203, 59.61398023,\n",
              "       61.66882935, 62.99337375, 63.18875499, 63.39844087, 63.10335817,\n",
              "       62.3595251 , 61.83117478, 61.68105218, 61.6185081 , 62.10328733,\n",
              "       62.39180213, 62.87935011, 63.33317711, 63.71616428, 63.8973425 ,\n",
              "       63.98656126])"
            ]
          },
          "execution_count": 69,
          "metadata": {},
          "output_type": "execute_result"
        }
      ],
      "source": [
        "test_predictions = model(X_test.to(device)).detach().cpu().numpy().flatten()\n",
        "\n",
        "dummies = np.zeros((X_test.shape[0], lookback+1))\n",
        "dummies[:, 0] = test_predictions\n",
        "dummies = scaler.inverse_transform(dummies)\n",
        "\n",
        "test_predictions = dc(dummies[:, 0])\n",
        "test_predictions"
      ]
    },
    {
      "cell_type": "code",
      "execution_count": 70,
      "id": "g-DJXBgYsFyI",
      "metadata": {
        "colab": {
          "base_uri": "https://localhost:8080/"
        },
        "id": "g-DJXBgYsFyI",
        "outputId": "b606685e-137b-41ef-8a56-6171133ed013"
      },
      "outputs": [
        {
          "data": {
            "text/plain": [
              "array([41.31999953, 41.72000141, 41.36999922, 41.2900006 , 41.59000047,\n",
              "       41.36000103, 41.36999922, 40.72999972, 40.58999972, 40.58999972,\n",
              "       41.6799999 , 42.36999909, 43.13999952, 42.70999871, 42.63999915,\n",
              "       42.68000065, 42.29999952, 41.70999884, 40.91999853, 41.02000053,\n",
              "       40.22000117, 40.45999879, 41.20000116, 41.13000072, 40.50000029,\n",
              "       39.86000079, 39.81000111, 39.88000067, 40.56999985, 40.74000141,\n",
              "       41.43999878, 41.52999909, 41.52999909, 41.43000059, 40.95000097,\n",
              "       41.20000116, 40.47000135, 40.06000129, 39.68000017, 38.88999899,\n",
              "       38.93000049, 38.61000074, 39.34000055, 38.24000131, 38.93000049,\n",
              "       39.49000136, 39.59999804, 41.34999847, 42.25999802, 42.04000115,\n",
              "       41.95999903, 41.8199999 , 41.50000016, 42.08000178, 42.70000052,\n",
              "       44.36000063, 44.88000088, 44.66999782, 45.3600005 , 45.2599985 ,\n",
              "       45.09000044, 45.02000088, 45.22999956, 45.08000226, 44.86000101,\n",
              "       45.74999981, 46.09999849, 47.22999974, 47.36999886, 46.70000087,\n",
              "       47.86000061, 48.5000001 , 48.88999941, 48.15000142, 48.06000154,\n",
              "       49.3400001 , 50.24000168, 49.83000184, 49.65999984, 50.93000032,\n",
              "       50.06999968, 50.59999855, 50.86000065, 51.34000016, 51.45999908,\n",
              "       51.52000045, 51.43999866, 53.0400009 , 53.63999944, 53.77000048,\n",
              "       54.33000179, 54.00999832, 53.47999956, 53.02000047, 52.08000182,\n",
              "       52.61999893, 51.86999892, 51.36000058, 51.11000061, 51.52000045,\n",
              "       52.84000015, 53.29999921, 53.25999831, 53.72999953, 53.66999815,\n",
              "       54.11000065, 57.09000016, 56.16999826, 56.06000136, 55.54000089,\n",
              "       54.49999996, 54.34999849, 54.54000081, 54.29000095, 53.99000162,\n",
              "       53.91999812, 52.75999832, 53.9799995 , 55.20999902, 54.84999843,\n",
              "       55.41999814, 55.33000177, 55.90000148, 55.9300002 , 55.36000071,\n",
              "       55.70999917, 55.04999914, 55.49000164, 55.59999855, 56.13999932,\n",
              "       56.25999835, 57.2900011 , 57.72000103, 57.50999841, 57.40999991,\n",
              "       57.45000097, 57.75999815, 57.09000016, 57.61000041, 58.63000103,\n",
              "       58.86000046, 60.13000083, 61.33000207, 60.82000001, 60.95000094,\n",
              "       61.66      , 62.75000018, 63.24000149, 63.45999924, 62.84000049,\n",
              "       61.68999894, 60.90999944, 61.59999862, 61.72999956, 61.66      ,\n",
              "       60.18000051, 60.70999894, 59.68000014, 58.56000146, 57.0200006 ,\n",
              "       58.16999821, 58.3199999 , 59.13999958, 60.95000094, 62.66999805,\n",
              "       62.47000106, 61.79000094, 62.65999987, 62.25999799, 61.33000207,\n",
              "       61.34999844, 61.54000075, 61.52000088, 62.81000156, 61.99999962,\n",
              "       62.75000018, 63.32000011, 63.5299988 , 63.40000136, 63.59000017,\n",
              "       64.23999785])"
            ]
          },
          "execution_count": 70,
          "metadata": {},
          "output_type": "execute_result"
        }
      ],
      "source": [
        "dummies = np.zeros((X_test.shape[0], lookback+1))\n",
        "dummies[:, 0] = y_test.flatten()\n",
        "dummies = scaler.inverse_transform(dummies)\n",
        "\n",
        "new_y_test = dc(dummies[:, 0])\n",
        "new_y_test"
      ]
    },
    {
      "cell_type": "code",
      "execution_count": 71,
      "id": "PhLmIlHOsSK4",
      "metadata": {
        "colab": {
          "base_uri": "https://localhost:8080/",
          "height": 449
        },
        "id": "PhLmIlHOsSK4",
        "outputId": "09c21535-ea22-4d65-bc50-b159bd4dc135"
      },
      "outputs": [
        {
          "data": {
            "image/png": "[encoded data removed]",
            "text/plain": [
              "<Figure size 640x480 with 1 Axes>"
            ]
          },
          "metadata": {},
          "output_type": "display_data"
        }
      ],
      "source": [
        "plt.plot(new_y_test, label='Actual Close')\n",
        "plt.plot(test_predictions, label='Predicted Close')\n",
        "plt.xlabel('Day')\n",
        "plt.ylabel('Close')\n",
        "plt.legend()\n",
        "plt.show()\n"
      ]
    },
    {
      "cell_type": "code",
      "execution_count": null,
      "id": "-CuelDg2seDP",
      "metadata": {
        "id": "-CuelDg2seDP"
      },
      "outputs": [],
      "source": []
    }
  ],
  "metadata": {
    "colab": {
      "gpuType": "T4",
      "provenance": []
    },
    "gpuClass": "standard",
    "kernelspec": {
      "display_name": "Python 3",
      "name": "python3"
    },
    "language_info": {
      "codemirror_mode": {
        "name": "ipython",
        "version": 3
      },
      "file_extension": ".py",
      "mimetype": "text/x-python",
      "name": "python",
      "nbconvert_exporter": "python",
      "pygments_lexer": "ipython3",
      "version": "3.11.1"
    }
  },
  "nbformat": 4,
  "nbformat_minor": 5
}
